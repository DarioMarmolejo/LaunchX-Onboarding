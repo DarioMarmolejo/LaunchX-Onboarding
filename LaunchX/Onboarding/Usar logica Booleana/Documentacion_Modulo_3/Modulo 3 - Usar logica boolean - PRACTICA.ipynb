{
 "cells": [
  {
   "cell_type": "markdown",
   "metadata": {},
   "source": [
    "# NoteBook de practica para el modulo 3 - Documentacion."
   ]
  },
  {
   "cell_type": "markdown",
   "metadata": {},
   "source": [
    "# Expresiones de prueba.\n",
    "> **Tip de práctica 1: Intenta ejecutarlo en un notebook.**\n",
    "\n",
    "a = 97\n",
    "\n",
    "b = 55\n"
   ]
  },
  {
   "cell_type": "markdown",
   "metadata": {},
   "source": [
    "Test expression / expresión de prueba"
   ]
  },
  {
   "cell_type": "code",
   "execution_count": 4,
   "metadata": {},
   "outputs": [],
   "source": [
    "a = 97\n",
    "\n",
    "b = 55\n",
    "if a < b:\n",
    "    # statement to be run / instrucción a ejecutar\n",
    "    print(b)"
   ]
  },
  {
   "cell_type": "markdown",
   "metadata": {},
   "source": [
    "#### Escribir declaraciones ``if``\n",
    "\n",
    "> **Tip de práctica 2: Antes de ejecutarlo en un notebook, intenta deducir cuál será el resultado y compruébalo.**\n",
    "\n",
    " Aplica el tip de práctica 1.\n",
    "a = 93\n",
    "b = 27\n",
    "if a >= b:\n",
    "    print(a)\n",
    "\n",
    "El fragmento anterior se lee de la siguiente manera (Línea por línea):\n",
    "\n",
    "A la letra 'a' le asigno el valor de 93.\n",
    "\n",
    "A la letra 'b' le asigno el valor de 27.\n",
    "\n",
    "SI a(93) es mayor o igual a b(27) entonces:\n",
    "\n",
    "Muestra (print) el valor de a(93)"
   ]
  },
  {
   "cell_type": "code",
   "execution_count": 5,
   "metadata": {},
   "outputs": [
    {
     "name": "stdout",
     "output_type": "stream",
     "text": [
      "93\n"
     ]
    }
   ],
   "source": [
    "a = 93\n",
    "b = 27\n",
    "if a >= b:\n",
    "    print(a)"
   ]
  },
  {
   "cell_type": "markdown",
   "metadata": {},
   "source": [
    "#### El operador ``elif``\n",
    "\n",
    "En Python, la palabra clave elif es la abreviatura de else if. El uso de instrucciones elif te permite agregar varias expresiones de prueba al programa. Estas instrucciones se ejecutan en el orden en que están escritas, por lo que el programa ingresará una instrucción elif solo si la primera instrucción if es False . Por ejemplo:"
   ]
  },
  {
   "cell_type": "code",
   "execution_count": 6,
   "metadata": {},
   "outputs": [
    {
     "name": "stdout",
     "output_type": "stream",
     "text": [
      "a es mayor o igual que b\n"
     ]
    }
   ],
   "source": [
    "a = 93\n",
    "b = 27\n",
    "if a >= b:\n",
    "    print(\"a es mayor o igual que b\")\n",
    "elif a == b:\n",
    "    print(\"a es igual que b\")"
   ]
  },
  {
   "cell_type": "markdown",
   "metadata": {},
   "source": [
    "#### El operador ``else``\n",
    "\n",
    "Combinar declaraciones if , elif, y else\n",
    "Puedes combinar sentencias if , elif, y else para crear programas con lógica condicional compleja. Recuerda que una instrucción elif sólo se ejecuta cuando la condición if es False. También ten en cuenta que un bloque if puede tener solo un bloque else, pero puede tener varios bloques elif.\n",
    "\n",
    "Veamos el ejemplo de nuevo con una declaración elif añadida:"
   ]
  },
  {
   "cell_type": "code",
   "execution_count": 1,
   "metadata": {},
   "outputs": [
    {
     "name": "stdout",
     "output_type": "stream",
     "text": [
      "a es mayor que b\n"
     ]
    }
   ],
   "source": [
    "a = 93\n",
    "b = 27\n",
    "if a > b:\n",
    "    print(\"a es mayor que b\")\n",
    "elif a < b:\n",
    "    print(\"a es menor que b\")\n",
    "else: \n",
    "    print (\"a es igual que b\")"
   ]
  },
  {
   "cell_type": "markdown",
   "metadata": {},
   "source": [
    "#### El operador ``or``\n",
    "\n",
    "Puede conectar dos expresiones booleanas o de prueba mediante el operador booleano or. Para que toda la expresión se evalúe en True, al menos una de las subexpresiones debe ser verdadera. Si ninguna de las subexpresiones es verdadera, toda la expresión se evalúa en False. Por ejemplo, en la siguiente expresión, toda la expresión de prueba se evalúa en True, porque se ha cumplido una de las condiciones de las subexpresiones:\n"
   ]
  },
  {
   "cell_type": "code",
   "execution_count": 10,
   "metadata": {},
   "outputs": [
    {
     "name": "stdout",
     "output_type": "stream",
     "text": [
      "68\n"
     ]
    }
   ],
   "source": [
    "a = 23\n",
    "b = 34\n",
    "if a == 34 and b == 34:\n",
    "    print (a + b)\n",
    "\n",
    "a = 34\n",
    "b = 34\n",
    "if a == 34 and b == 34:\n",
    "    print (a + b)"
   ]
  },
  {
   "cell_type": "markdown",
   "metadata": {},
   "source": [
    "#### El operador ``and``\n",
    "\n",
    "También puedes conectar dos expresiones de prueba mediante el operador booleano and.\n",
    "\n",
    "Ambas condiciones de la expresión de prueba deben ser verdaderas para que toda la expresión de prueba se evalúe en True. En cualquier otro caso, la expresión de prueba es False. En el ejemplo siguiente, toda la expresión de prueba se evalúa en False, porque sólo una de las condiciones de las subexpresiones es True:"
   ]
  },
  {
   "cell_type": "code",
   "execution_count": 12,
   "metadata": {},
   "outputs": [
    {
     "name": "stdout",
     "output_type": "stream",
     "text": [
      "68\n"
     ]
    }
   ],
   "source": [
    "a = 23\n",
    "b = 34\n",
    "if a == 34 and b == 34:\n",
    "    print (a + b)\n",
    "\n",
    "a = 34\n",
    "b = 34\n",
    "if a == 34 and b == 34:\n",
    "    print (a + b)"
   ]
  }
 ],
 "metadata": {
  "interpreter": {
   "hash": "a45af20c6b58dd85d524b423b9517dc56029f980b6324e8a75354043eccac7f1"
  },
  "kernelspec": {
   "display_name": "Python 3.8.3 64-bit",
   "language": "python",
   "name": "python3"
  },
  "language_info": {
   "codemirror_mode": {
    "name": "ipython",
    "version": 3
   },
   "file_extension": ".py",
   "mimetype": "text/x-python",
   "name": "python",
   "nbconvert_exporter": "python",
   "pygments_lexer": "ipython3",
   "version": "3.8.3"
  },
  "orig_nbformat": 4
 },
 "nbformat": 4,
 "nbformat_minor": 2
}
